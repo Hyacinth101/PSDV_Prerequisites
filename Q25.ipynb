{
 "cells": [
  {
   "cell_type": "markdown",
   "id": "032ec506-231d-415b-a302-1886157a401c",
   "metadata": {},
   "source": [
    "### Leap Year Checker"
   ]
  },
  {
   "cell_type": "markdown",
   "id": "f36c7fc2-3cb1-427a-a0a4-7fcd382a576f",
   "metadata": {},
   "source": [
    "Write a Python program that takes a year as input and checks if it is a leap year."
   ]
  },
  {
   "cell_type": "code",
   "execution_count": 2,
   "id": "b157bb30-94b8-4667-a783-949da401567c",
   "metadata": {},
   "outputs": [
    {
     "name": "stdin",
     "output_type": "stream",
     "text": [
      " 2000\n"
     ]
    },
    {
     "name": "stdout",
     "output_type": "stream",
     "text": [
      "Leap Year\n"
     ]
    }
   ],
   "source": [
    "def leap(k):\n",
    "    if (k % 4 == 0 and k % 100 != 0) or (k % 400 == 0):\n",
    "        return True\n",
    "    else:\n",
    "        return False\n",
    "\n",
    "k=int(input())\n",
    "if leap(k)==True:\n",
    "    print (\"Leap Year\")\n",
    "else:\n",
    "    print (\"Not a leap year\")\n",
    "\n"
   ]
  },
  {
   "cell_type": "code",
   "execution_count": null,
   "id": "e7105bde-7287-40b5-8fe8-3002f09542a0",
   "metadata": {},
   "outputs": [],
   "source": []
  }
 ],
 "metadata": {
  "kernelspec": {
   "display_name": "Python 3 (ipykernel)",
   "language": "python",
   "name": "python3"
  },
  "language_info": {
   "codemirror_mode": {
    "name": "ipython",
    "version": 3
   },
   "file_extension": ".py",
   "mimetype": "text/x-python",
   "name": "python",
   "nbconvert_exporter": "python",
   "pygments_lexer": "ipython3",
   "version": "3.12.3"
  }
 },
 "nbformat": 4,
 "nbformat_minor": 5
}
