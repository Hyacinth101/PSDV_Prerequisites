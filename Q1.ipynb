{
 "cells": [
  {
   "cell_type": "markdown",
   "id": "dbcd6696-4b46-4629-9cce-f4c49beacfa5",
   "metadata": {},
   "source": [
    "## Question 1\n"
   ]
  },
  {
   "cell_type": "markdown",
   "id": "8221b1a0-c89b-4771-8ceb-47a0fef15b60",
   "metadata": {
    "scrolled": true
   },
   "source": [
    "#### Q.1) List Operations and Basic Statistics:\n",
    "#### Create a list of the first 20 natural numbers.\n",
    "#### Compute the sum of all even numbers in the list.\n",
    "#### Compute the product of all odd numbers in the list.\n",
    "#### Calculate the mean, median, and standard deviation of the list."
   ]
  },
  {
   "cell_type": "code",
   "execution_count": 8,
   "id": "753ad2ce-11c3-4013-b3c4-2fce72997d3a",
   "metadata": {},
   "outputs": [
    {
     "name": "stdout",
     "output_type": "stream",
     "text": [
      "110\n",
      "654729075\n"
     ]
    }
   ],
   "source": [
    "lis= list(range(1,21))\n",
    "sums=0\n",
    "product=1\n",
    "for word in lis:\n",
    "    if word%2==0:\n",
    "        sums=sums+ word\n",
    "    else:\n",
    "        product=product*word\n",
    "print (sums)\n",
    "print (product)"
   ]
  },
  {
   "cell_type": "markdown",
   "id": "216eead1-9518-4747-a823-21cc210815f2",
   "metadata": {},
   "source": [
    "### For Stats, I'll import the module statistics, and use it"
   ]
  },
  {
   "cell_type": "code",
   "execution_count": 12,
   "id": "1566c3d6-b9d9-4528-ac3e-ff2cac2482d9",
   "metadata": {},
   "outputs": [
    {
     "name": "stdout",
     "output_type": "stream",
     "text": [
      "10.5\n",
      "10.5\n",
      "5.916\n"
     ]
    }
   ],
   "source": [
    "import statistics\n",
    "mean=statistics.mean(lis)\n",
    "print (mean)\n",
    "median=statistics.median(lis)\n",
    "print (median)\n",
    "sd=statistics.stdev(lis)\n",
    "print (round(sd,3))\n"
   ]
  },
  {
   "cell_type": "code",
   "execution_count": null,
   "id": "0294f1d4-98f2-4c0c-8383-a2b3e4ecbb6f",
   "metadata": {},
   "outputs": [],
   "source": []
  }
 ],
 "metadata": {
  "kernelspec": {
   "display_name": "Python 3 (ipykernel)",
   "language": "python",
   "name": "python3"
  },
  "language_info": {
   "codemirror_mode": {
    "name": "ipython",
    "version": 3
   },
   "file_extension": ".py",
   "mimetype": "text/x-python",
   "name": "python",
   "nbconvert_exporter": "python",
   "pygments_lexer": "ipython3",
   "version": "3.12.3"
  }
 },
 "nbformat": 4,
 "nbformat_minor": 5
}
