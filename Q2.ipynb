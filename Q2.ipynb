{
 "cells": [
  {
   "cell_type": "markdown",
   "id": "d71c60db-293a-4f26-a981-050e8db222f8",
   "metadata": {},
   "source": [
    "\n",
    "Immutable: Can't be changed after being created. REsults in error if you try to change them after creating them. \n",
    "EG: Tuple\n"
   ]
  },
  {
   "cell_type": "code",
   "execution_count": 2,
   "id": "8ce2e938-ecd3-4811-9c28-e86f53f71387",
   "metadata": {},
   "outputs": [
    {
     "name": "stdout",
     "output_type": "stream",
     "text": [
      "('1', '2', '5', '4')\n"
     ]
    }
   ],
   "source": [
    "tup= ('1','2','5')\n",
    "new_tup= tup + ('4',)\n",
    "print (new_tup)"
   ]
  },
  {
   "cell_type": "markdown",
   "id": "6554e188-2c3a-48fc-a78e-229c280619f0",
   "metadata": {},
   "source": [
    "Here, a new tuple is created for appending or deleting an element from the set"
   ]
  },
  {
   "cell_type": "markdown",
   "id": "c0c9c8a7-6aa1-42e4-bb78-7e026067a93a",
   "metadata": {},
   "source": [
    "Mutable: Elements inside can be changed, after intially creating these. Eg. List, Dictionary, String"
   ]
  },
  {
   "cell_type": "code",
   "execution_count": 11,
   "id": "f9bc838a-8864-4310-9b81-632752a6f526",
   "metadata": {},
   "outputs": [
    {
     "name": "stdout",
     "output_type": "stream",
     "text": [
      "[9, 8, 7, 6, 5, 4, 3, 2, 1]\n"
     ]
    }
   ],
   "source": [
    "lis= [ 1,2,3,4,5,6,7,8,9]\n",
    "lis=lis[::-1]\n",
    "print (lis)"
   ]
  }
 ],
 "metadata": {
  "kernelspec": {
   "display_name": "Python 3 (ipykernel)",
   "language": "python",
   "name": "python3"
  },
  "language_info": {
   "codemirror_mode": {
    "name": "ipython",
    "version": 3
   },
   "file_extension": ".py",
   "mimetype": "text/x-python",
   "name": "python",
   "nbconvert_exporter": "python",
   "pygments_lexer": "ipython3",
   "version": "3.12.3"
  }
 },
 "nbformat": 4,
 "nbformat_minor": 5
}
