{
 "cells": [
  {
   "cell_type": "markdown",
   "id": "03aa4e4d-7d81-44be-8db9-bd6c78daf673",
   "metadata": {},
   "source": [
    "#### Normalization:\n",
    "##### Write a Python function to normalize a list of numbers to a range of 0 to 1.\n",
    "##### Visualize the normalized data using a line plot."
   ]
  },
  {
   "cell_type": "code",
   "execution_count": null,
   "id": "3493cef6-2ef1-4645-8d80-fb1eed583deb",
   "metadata": {},
   "outputs": [],
   "source": []
  }
 ],
 "metadata": {
  "kernelspec": {
   "display_name": "Python 3 (ipykernel)",
   "language": "python",
   "name": "python3"
  },
  "language_info": {
   "codemirror_mode": {
    "name": "ipython",
    "version": 3
   },
   "file_extension": ".py",
   "mimetype": "text/x-python",
   "name": "python",
   "nbconvert_exporter": "python",
   "pygments_lexer": "ipython3",
   "version": "3.12.3"
  }
 },
 "nbformat": 4,
 "nbformat_minor": 5
}
