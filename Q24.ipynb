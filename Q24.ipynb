{
 "cells": [
  {
   "cell_type": "markdown",
   "id": "cf7c573a-5833-4d01-b652-1dd3e5d80091",
   "metadata": {},
   "source": [
    "## Grade Calculator:\n",
    "Write a Python program that takes a numerical grade (0-100) as input and prints the corresponding letter grade (A, B, C, D, F)."
   ]
  },
  {
   "cell_type": "code",
   "execution_count": 1,
   "id": "d3bfbaa6-2257-474b-b835-8378145e7207",
   "metadata": {},
   "outputs": [
    {
     "name": "stdin",
     "output_type": "stream",
     "text": [
      " 23\n"
     ]
    },
    {
     "name": "stdout",
     "output_type": "stream",
     "text": [
      "D\n"
     ]
    }
   ],
   "source": [
    "n=int(input())\n",
    "if n<20:\n",
    "    print (\"F\")\n",
    "elif n<40:\n",
    "    print (\"D\")\n",
    "elif n<60:\n",
    "    print (\"C\")\n",
    "elif n<80:\n",
    "    print (\"B\")\n",
    "elif n<100:\n",
    "    print (\"A\")\n"
   ]
  },
  {
   "cell_type": "code",
   "execution_count": null,
   "id": "993978ce-429c-4d9c-b0c5-041d5a0f4682",
   "metadata": {},
   "outputs": [],
   "source": []
  }
 ],
 "metadata": {
  "kernelspec": {
   "display_name": "Python 3 (ipykernel)",
   "language": "python",
   "name": "python3"
  },
  "language_info": {
   "codemirror_mode": {
    "name": "ipython",
    "version": 3
   },
   "file_extension": ".py",
   "mimetype": "text/x-python",
   "name": "python",
   "nbconvert_exporter": "python",
   "pygments_lexer": "ipython3",
   "version": "3.12.3"
  }
 },
 "nbformat": 4,
 "nbformat_minor": 5
}
