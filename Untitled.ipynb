{
 "cells": [
  {
   "cell_type": "code",
   "execution_count": 4,
   "id": "9f80e86e-6092-4b35-ab43-79b6bf3ac0a7",
   "metadata": {},
   "outputs": [
    {
     "name": "stdout",
     "output_type": "stream",
     "text": [
      "[60 41 45  8 35 85 11 73 89  5 50 82 72 97  1 23 89 50 27 96]\n"
     ]
    }
   ],
   "source": [
    "import numpy as np\n",
    "arr= np.random.randint(1,100,20)\n",
    "print (arr)"
   ]
  },
  {
   "cell_type": "code",
   "execution_count": 7,
   "id": "e882e42e-c821-40c1-90c2-08d1da131f88",
   "metadata": {},
   "outputs": [
    {
     "name": "stdout",
     "output_type": "stream",
     "text": [
      "[[1 1 1 1 1]\n",
      " [1 0 0 0 1]\n",
      " [1 0 0 0 1]\n",
      " [1 0 0 0 1]\n",
      " [1 1 1 1 1]]\n"
     ]
    }
   ],
   "source": [
    "mat= np.array([[1,1,1,1,1] ,[1,0,0,0,1] ,[1,0,0,0,1] ,[1,0,0,0,1] ,[1,1,1,1,1]])\n",
    "print (mat)"
   ]
  },
  {
   "cell_type": "code",
   "execution_count": 16,
   "id": "354a2496-1f1b-42ce-a4e3-6898fbc86a2e",
   "metadata": {},
   "outputs": [
    {
     "name": "stdout",
     "output_type": "stream",
     "text": [
      "[[0 0 0 0]\n",
      " [0 1 0 0]\n",
      " [0 0 2 0]\n",
      " [0 0 0 3]]\n"
     ]
    }
   ],
   "source": [
    "matr = np.zeros((4, 4), dtype= int)\n",
    "for i in range(4):\n",
    "    matr[i][i]=i\n",
    "print (matr)\n",
    "        \n",
    "        \n",
    "        "
   ]
  },
  {
   "cell_type": "code",
   "execution_count": 23,
   "id": "1dfea5ff-dd59-47dd-9fda-9b0bd5e65ee0",
   "metadata": {},
   "outputs": [
    {
     "name": "stdout",
     "output_type": "stream",
     "text": [
      "[[1 2 3]\n",
      " [1 2 3]\n",
      " [1 2 3]]\n"
     ]
    }
   ],
   "source": [
    "m=np.zeros((3,3), dtype=int)\n",
    "for i in range (3):\n",
    "    for j in range(3):\n",
    "        m[i][j]=j+1\n",
    "\n",
    "print (m)"
   ]
  },
  {
   "cell_type": "code",
   "execution_count": 27,
   "id": "7a50bb08-a094-4d27-90c3-f8ff1e3057be",
   "metadata": {},
   "outputs": [
    {
     "name": "stdout",
     "output_type": "stream",
     "text": [
      "[0 1 0 1 0 1 0 1 0 1]\n"
     ]
    }
   ],
   "source": [
    "ar2=np.zeros((10), dtype=int)\n",
    "for i in range (0,10):\n",
    "    if i%2!=0:\n",
    "        ar2[i]=1\n",
    "print (ar2)"
   ]
  },
  {
   "cell_type": "code",
   "execution_count": 32,
   "id": "b93c2933-8727-4469-b430-82e500df2901",
   "metadata": {},
   "outputs": [
    {
     "name": "stdout",
     "output_type": "stream",
     "text": [
      "[[15 17 19]\n",
      " [12 18 19]\n",
      " [19 15 11]]\n"
     ]
    }
   ],
   "source": [
    "mem=np.zeros((3,3), dtype=int)\n",
    "for i in range (3):\n",
    "    for j in range (3):\n",
    "        mem[i][j]=np.random.randint(10,20)\n",
    "        \n",
    "    \n",
    "print (mem)"
   ]
  },
  {
   "cell_type": "code",
   "execution_count": 44,
   "id": "eeb9327d-4bec-4045-ae06-e61205dd75a4",
   "metadata": {},
   "outputs": [
    {
     "name": "stdout",
     "output_type": "stream",
     "text": [
      "(4, 5)\n",
      "2\n",
      "(4, 5)\n",
      "int64\n"
     ]
    }
   ],
   "source": [
    "arr0=np.random.randint(1,11,size =(4,5))\n",
    "\n",
    "print(arr0.shape)\n",
    "print (arr0.ndim)\n",
    "print(arr0.shape)\n",
    "print(arr0.dtype)"
   ]
  },
  {
   "cell_type": "code",
   "execution_count": 49,
   "id": "01aabe2b-c475-4436-b80b-11778ad8692c",
   "metadata": {},
   "outputs": [
    {
     "name": "stdout",
     "output_type": "stream",
     "text": [
      "[45, 33, 78, 12, 23, 90, 1]\n",
      "[1, 12, 23, 33, 45, 78, 90]\n"
     ]
    }
   ],
   "source": [
    "\n",
    "arr= [45,33,78,12,23,90,1]\n",
    "arr2=arr.copy()\n",
    "arr2.sort()\n",
    "print (arr)\n",
    "print (arr2)"
   ]
  },
  {
   "cell_type": "code",
   "execution_count": 57,
   "id": "1f175ff9-3e30-428e-b7fe-b533ad6e4171",
   "metadata": {},
   "outputs": [
    {
     "name": "stdout",
     "output_type": "stream",
     "text": [
      "[ 23  56   1 234  78  90  33  55  78]\n"
     ]
    }
   ],
   "source": [
    "arr=[23,56,1,234,78,90,33,55,78]\n",
    "arr = np.array(arr)\n",
    "k=45\n",
    "lst = []\n",
    "idx = []\n",
    "for _ in range(mat.size):\n",
    "    if(arr[__] >= k):\n",
    "        lst.append(arr[__])\n",
    "        idx.append(__)\n",
    "\n",
    "l1 = np.array(lst)\n",
    "l1 = np.sort(l1)\n",
    "\n",
    "for i in range(l1.size):\n",
    "    arr[idx[i]] = l1[i]\n",
    "\n",
    "print(arr)"
   ]
  },
  {
   "cell_type": "code",
   "execution_count": 71,
   "id": "c6e5e207-9166-4af5-a087-ee79eada4adf",
   "metadata": {},
   "outputs": [
    {
     "name": "stdout",
     "output_type": "stream",
     "text": [
      "30\n",
      "[[ 5 10 15]]\n",
      "[[15]\n",
      " [30]\n",
      " [45]]\n"
     ]
    }
   ],
   "source": [
    "arr_2d = np.array([[5, 10, 15], [20, 25, 30], [35, 40, 45]])\n",
    "print (arr_2d[1][2])\n",
    "print (arr_2d[0:1:])\n",
    "print (arr_2d [:, [2]])\n",
    "\n"
   ]
  },
  {
   "cell_type": "code",
   "execution_count": 76,
   "id": "b7a11256-6e17-4d52-a6ce-0c8fd75bd01e",
   "metadata": {},
   "outputs": [
    {
     "name": "stdout",
     "output_type": "stream",
     "text": [
      "[11 14 -1 -1]\n"
     ]
    }
   ],
   "source": [
    "arr = np.array([2, 5, 8, 11, 14, 17, 20])\n",
    "l=[]\n",
    "for num in arr:\n",
    "    if num > 10:\n",
    "        if num > 15:\n",
    "            num=-1\n",
    "        l.append(num)\n",
    "l=np.array(l)\n",
    "print (l)"
   ]
  },
  {
   "cell_type": "code",
   "execution_count": null,
   "id": "6de5e780-f59e-4565-af5c-4c46287e98d2",
   "metadata": {},
   "outputs": [],
   "source": []
  }
 ],
 "metadata": {
  "kernelspec": {
   "display_name": "Python 3 (ipykernel)",
   "language": "python",
   "name": "python3"
  },
  "language_info": {
   "codemirror_mode": {
    "name": "ipython",
    "version": 3
   },
   "file_extension": ".py",
   "mimetype": "text/x-python",
   "name": "python",
   "nbconvert_exporter": "python",
   "pygments_lexer": "ipython3",
   "version": "3.12.3"
  }
 },
 "nbformat": 4,
 "nbformat_minor": 5
}
