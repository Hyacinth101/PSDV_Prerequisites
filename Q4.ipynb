{
 "cells": [
  {
   "cell_type": "markdown",
   "id": "758be198-83ae-4b4a-9f4e-7d0f763bdedb",
   "metadata": {},
   "source": [
    "### List Manipulation:\n",
    "Given a list [3, 5, 7, 9, 11, 13]: /n\n",
    "Insert 6 at the 3rd index.\n",
    "Remove the number 7 from the list.\n",
    "Reverse the list.\n",
    "Calculate the mean and median of the modified list."
   ]
  },
  {
   "cell_type": "code",
   "execution_count": 13,
   "id": "886eabdb-d142-4e6b-bccd-0f3a79a65cef",
   "metadata": {},
   "outputs": [
    {
     "name": "stdout",
     "output_type": "stream",
     "text": [
      "[3, 5, 7, 6, 9, 11, 13]\n"
     ]
    }
   ],
   "source": [
    "lis=[3,5,7,9,11,13]\n",
    "lis.insert(3,6)\n",
    "print (lis)"
   ]
  },
  {
   "cell_type": "code",
   "execution_count": 14,
   "id": "32ff63c6-2583-4a1d-8113-b28918529c10",
   "metadata": {},
   "outputs": [
    {
     "name": "stdout",
     "output_type": "stream",
     "text": [
      "[3, 5, 6, 9, 11, 13]\n"
     ]
    }
   ],
   "source": [
    "lis.remove(7)\n",
    "print (lis)"
   ]
  },
  {
   "cell_type": "code",
   "execution_count": 17,
   "id": "fbe6e6c4-b1db-4c4c-a3e9-eb878f0fed43",
   "metadata": {},
   "outputs": [
    {
     "name": "stdout",
     "output_type": "stream",
     "text": [
      "[13, 11, 9, 6, 5, 3]\n"
     ]
    }
   ],
   "source": [
    "lis=lis[::-1]\n",
    "print (lis)"
   ]
  },
  {
   "cell_type": "code",
   "execution_count": 19,
   "id": "5e5fa97b-3452-4286-b7d4-36ba3166e4fa",
   "metadata": {},
   "outputs": [
    {
     "name": "stdout",
     "output_type": "stream",
     "text": [
      "7.833333333333333\n",
      "7.5\n"
     ]
    }
   ],
   "source": [
    "import statistics\n",
    "mean=statistics.mean(lis)\n",
    "print (mean)\n",
    "median=statistics.median(lis)\n",
    "print (median)"
   ]
  },
  {
   "cell_type": "code",
   "execution_count": null,
   "id": "1c52af78-c305-46c9-8f9d-cfd1ffdea19c",
   "metadata": {},
   "outputs": [],
   "source": []
  }
 ],
 "metadata": {
  "kernelspec": {
   "display_name": "Python 3 (ipykernel)",
   "language": "python",
   "name": "python3"
  },
  "language_info": {
   "codemirror_mode": {
    "name": "ipython",
    "version": 3
   },
   "file_extension": ".py",
   "mimetype": "text/x-python",
   "name": "python",
   "nbconvert_exporter": "python",
   "pygments_lexer": "ipython3",
   "version": "3.12.3"
  }
 },
 "nbformat": 4,
 "nbformat_minor": 5
}
