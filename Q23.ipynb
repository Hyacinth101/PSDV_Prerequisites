{
 "cells": [
  {
   "cell_type": "markdown",
   "id": "bfa03f12-df64-4637-bd21-f9fd8042e0b4",
   "metadata": {},
   "source": [
    "Even or Odd:\n",
    "Write a Python program that takes an integer input from the user and prints whether the number is even or odd."
   ]
  },
  {
   "cell_type": "code",
   "execution_count": 3,
   "id": "bb911209-b2f7-40d5-8e59-dd1a83d89ff0",
   "metadata": {},
   "outputs": [
    {
     "name": "stdin",
     "output_type": "stream",
     "text": [
      " 24\n"
     ]
    },
    {
     "name": "stdout",
     "output_type": "stream",
     "text": [
      "Even\n"
     ]
    }
   ],
   "source": [
    "n=int(input())\n",
    "if n%2==0:\n",
    "    print (\"Even\")\n",
    "else:\n",
    "    print (\"Odd\")"
   ]
  },
  {
   "cell_type": "code",
   "execution_count": null,
   "id": "8101d35c-027a-484f-b921-576eb0587462",
   "metadata": {},
   "outputs": [],
   "source": []
  }
 ],
 "metadata": {
  "kernelspec": {
   "display_name": "Python 3 (ipykernel)",
   "language": "python",
   "name": "python3"
  },
  "language_info": {
   "codemirror_mode": {
    "name": "ipython",
    "version": 3
   },
   "file_extension": ".py",
   "mimetype": "text/x-python",
   "name": "python",
   "nbconvert_exporter": "python",
   "pygments_lexer": "ipython3",
   "version": "3.12.3"
  }
 },
 "nbformat": 4,
 "nbformat_minor": 5
}
